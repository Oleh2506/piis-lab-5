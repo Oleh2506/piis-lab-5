{
 "cells": [
  {
   "cell_type": "markdown",
   "id": "6696e594-0e54-4aaf-854e-8dcba54455a6",
   "metadata": {},
   "source": [
    "# Lab-5"
   ]
  },
  {
   "cell_type": "code",
   "execution_count": 1,
   "id": "ce4dbd70-2dcf-4d52-8ac6-7fab27db0878",
   "metadata": {},
   "outputs": [],
   "source": [
    "from selenium import webdriver\n",
    "from selenium.webdriver.common.by import By\n",
    "import re"
   ]
  },
  {
   "cell_type": "code",
   "execution_count": 2,
   "id": "431beace-ad86-4253-ba23-3bdf9ee90e8f",
   "metadata": {},
   "outputs": [],
   "source": [
    "driver = webdriver.Chrome()\n",
    "driver.maximize_window()\n",
    "driver.get('https://pestrecy-rt.ru/news/tag/list/specoperaciia')"
   ]
  },
  {
   "cell_type": "code",
   "execution_count": 3,
   "id": "b16481e8-6121-4ced-ad67-98ce523a8568",
   "metadata": {},
   "outputs": [],
   "source": [
    "def get_russian_names(text):\n",
    "    russian_names = re.findall(r'\\b[А-ЯЁ][а-яё]+\\s[А-ЯЁ][а-яё]+\\b', text)\n",
    "    return russian_names"
   ]
  },
  {
   "cell_type": "code",
   "execution_count": 4,
   "id": "346c4528-edc7-429d-bd65-5741b67f5bb4",
   "metadata": {},
   "outputs": [],
   "source": [
    "name_list = []\n",
    "\n",
    "while True:\n",
    "    for headline in driver.find_elements(By.XPATH, '//h2[@class=\"oneNews__link news__bold-text\"]'):\n",
    "        names = get_russian_names(headline.text)\n",
    "        if names:\n",
    "            for name in names:\n",
    "                name_list.append(name)\n",
    "\n",
    "    for paragraph in driver.find_elements(By.XPATH, '//p[@class=\"oneNews__link\"]'):\n",
    "        names = get_russian_names(paragraph.text)\n",
    "        if names:\n",
    "            for name in names:\n",
    "                name_list.append(name)\n",
    "    \n",
    "    buttons = driver.find_elements(By.XPATH, '//a[@class=\"all-news__button_forward\"]//span[contains(text(), \"Далее\")]')\n",
    "    if buttons:\n",
    "        buttons[0].click()\n",
    "    else:\n",
    "        break"
   ]
  },
  {
   "cell_type": "code",
   "execution_count": 5,
   "id": "46840bae-646f-49fb-a62f-863c5bc2c056",
   "metadata": {},
   "outputs": [],
   "source": [
    "banned_substrings = ['Казан', 'Росси', 'Глав', 'Социальн', 'Урожен', 'Татарстан', 'Госдум', 'Вооружен', 'Защитник', 'Пестречин', 'Родин', 'Государст', 'Героя']\n",
    "filtered_name_list = [item for item in name_list if all(substring not in item for substring in banned_substrings)]"
   ]
  },
  {
   "cell_type": "code",
   "execution_count": 6,
   "id": "43ba6543-54f6-41f2-a17a-36baba1c4bed",
   "metadata": {},
   "outputs": [
    {
     "name": "stdout",
     "output_type": "stream",
     "text": [
      "Айгуль Сабирова\n",
      "Владислав Кузнецов\n",
      "Юрия Ивановича\n",
      "Марии Ивановны\n",
      "Рафката Амировича\n",
      "Раушании Габдрахмановны\n",
      "Ивана Додосова\n",
      "Ильдара Насыбуллина\n",
      "Рустам Минниханов\n",
      "Фаниль Аглиуллин\n",
      "Елена Корчагина\n",
      "Лейла Фазлеева\n",
      "Лейла Фазлеева\n",
      "Гузель Удачина\n",
      "Сергей Корчагин\n",
      "Лейла Фазлеева\n",
      "Альберт Ибятуллин\n",
      "Заместитель Премьер\n",
      "Жизнь Артема\n",
      "Эдуард Вафин\n",
      "Ринат Садыков\n",
      "Сергей Шойгу\n",
      "Орденом Мужества\n",
      "Эдуард Вафин\n",
      "Раиса Республики\n",
      "Александром Агафоновым\n",
      "Эдуард Шарафиев\n",
      "Татьяна Голикова\n",
      "Николая Чудотворца\n",
      "Валерием Межва\n",
      "Валерий Максимов\n",
      "Рустам Сафиуллин\n",
      "Александр Владимиров\n",
      "Иван Додосов\n",
      "Казни Евгений\n",
      "Фарит Валиев\n",
      "Иван Додосов\n",
      "Мост Москва\n",
      "Марс Бикбов\n",
      "Галина Тимофеева\n",
      "Эдуард Вафин\n",
      "Разъяснил Верховный\n",
      "Камиль Самигуллин\n",
      "Ильхама Кашапова\n",
      "Священник Виталий\n",
      "Пенсионерка Тамара\n",
      "Создание Фонда\n",
      "Эдуард Шарафиев\n",
      "Ринат Садыков\n",
      "Ильхам Кашапов\n",
      "Новое Шигалеево\n",
      "Виталий Беляев\n",
      "Иван Додосов\n",
      "Эльмира Зарипова\n",
      "Тимур Сулейманов\n",
      "Ильхам Кашапов\n"
     ]
    }
   ],
   "source": [
    "for name in filtered_name_list:\n",
    "    print(name)"
   ]
  }
 ],
 "metadata": {
  "kernelspec": {
   "display_name": "Python 3 (ipykernel)",
   "language": "python",
   "name": "python3"
  },
  "language_info": {
   "codemirror_mode": {
    "name": "ipython",
    "version": 3
   },
   "file_extension": ".py",
   "mimetype": "text/x-python",
   "name": "python",
   "nbconvert_exporter": "python",
   "pygments_lexer": "ipython3",
   "version": "3.12.0"
  }
 },
 "nbformat": 4,
 "nbformat_minor": 5
}
